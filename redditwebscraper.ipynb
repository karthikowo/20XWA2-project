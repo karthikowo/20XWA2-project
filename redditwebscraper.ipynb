{
 "cells": [
  {
   "cell_type": "code",
   "execution_count": 87,
   "id": "c2584caa",
   "metadata": {},
   "outputs": [],
   "source": [
    "import praw\n",
    "import json"
   ]
  },
  {
   "cell_type": "code",
   "execution_count": 88,
   "id": "0f63bd1e",
   "metadata": {},
   "outputs": [],
   "source": [
    "client_id = \"GDLLbPFyTvIqcH7Ur-Cozg\"\n",
    "client_secret = \"4Mo5f-GGBOqqo3E3BDG-L7-zjsT2gQ\"\n",
    "user_agent = \"Roogle\"\n",
    "username = \"ZuraBot\"\n",
    "password = \"katsurabot69\""
   ]
  },
  {
   "cell_type": "code",
   "execution_count": 89,
   "id": "49c01b77",
   "metadata": {},
   "outputs": [],
   "source": [
    "reddit = praw.Reddit(client_id = client_id,\n",
    "                    client_secret = client_secret,\n",
    "                    user_agent = user_agent,\n",
    "                    username = username,\n",
    "                    password = password)"
   ]
  },
  {
   "cell_type": "code",
   "execution_count": 90,
   "id": "4770061a",
   "metadata": {},
   "outputs": [],
   "source": [
    "subreddit = reddit.subreddit(\"learnprogramming\")"
   ]
  },
  {
   "cell_type": "code",
   "execution_count": 91,
   "id": "2e8a1759",
   "metadata": {},
   "outputs": [],
   "source": [
    "# hot\n",
    "# new\n",
    "# contraversial\n",
    "# top\n",
    "# glided"
   ]
  },
  {
   "cell_type": "code",
   "execution_count": 92,
   "id": "4c30d7c8",
   "metadata": {},
   "outputs": [],
   "source": [
    "hot = subreddit.hot(limit = 10)\n",
    "new = subreddit.new(limit = 10)\n",
    "controv = subreddit.controversial(limit = 10)\n",
    "top = subreddit.top(limit = 10)\n",
    "gilded = subreddit.gilded(limit = 10)"
   ]
  },
  {
   "cell_type": "code",
   "execution_count": 93,
   "id": "b33e7c38",
   "metadata": {},
   "outputs": [
    {
     "data": {
      "text/plain": [
       "praw.models.listing.generator.ListingGenerator"
      ]
     },
     "execution_count": 93,
     "metadata": {},
     "output_type": "execute_result"
    }
   ],
   "source": [
    "type(hot)"
   ]
  },
  {
   "cell_type": "code",
   "execution_count": 94,
   "id": "ae2b64b3",
   "metadata": {},
   "outputs": [],
   "source": [
    "x = next(top)"
   ]
  },
  {
   "cell_type": "code",
   "execution_count": 95,
   "id": "f702416a",
   "metadata": {},
   "outputs": [
    {
     "data": {
      "text/plain": [
       "['STR_FIELD',\n",
       " '__class__',\n",
       " '__delattr__',\n",
       " '__dict__',\n",
       " '__dir__',\n",
       " '__doc__',\n",
       " '__eq__',\n",
       " '__format__',\n",
       " '__ge__',\n",
       " '__getattr__',\n",
       " '__getattribute__',\n",
       " '__gt__',\n",
       " '__hash__',\n",
       " '__init__',\n",
       " '__init_subclass__',\n",
       " '__le__',\n",
       " '__lt__',\n",
       " '__module__',\n",
       " '__ne__',\n",
       " '__new__',\n",
       " '__reduce__',\n",
       " '__reduce_ex__',\n",
       " '__repr__',\n",
       " '__setattr__',\n",
       " '__sizeof__',\n",
       " '__str__',\n",
       " '__subclasshook__',\n",
       " '__weakref__',\n",
       " '_chunk',\n",
       " '_comments_by_id',\n",
       " '_fetch',\n",
       " '_fetch_data',\n",
       " '_fetch_info',\n",
       " '_fetched',\n",
       " '_kind',\n",
       " '_reddit',\n",
       " '_reset_attributes',\n",
       " '_safely_add_arguments',\n",
       " '_url_parts',\n",
       " '_vote',\n",
       " 'all_awardings',\n",
       " 'allow_live_comments',\n",
       " 'approved_at_utc',\n",
       " 'approved_by',\n",
       " 'archived',\n",
       " 'author',\n",
       " 'author_flair_background_color',\n",
       " 'author_flair_css_class',\n",
       " 'author_flair_richtext',\n",
       " 'author_flair_template_id',\n",
       " 'author_flair_text',\n",
       " 'author_flair_text_color',\n",
       " 'author_flair_type',\n",
       " 'author_fullname',\n",
       " 'author_is_blocked',\n",
       " 'author_patreon_flair',\n",
       " 'author_premium',\n",
       " 'award',\n",
       " 'awarders',\n",
       " 'banned_at_utc',\n",
       " 'banned_by',\n",
       " 'can_gild',\n",
       " 'can_mod_post',\n",
       " 'category',\n",
       " 'clear_vote',\n",
       " 'clicked',\n",
       " 'comment_limit',\n",
       " 'comment_sort',\n",
       " 'comments',\n",
       " 'content_categories',\n",
       " 'contest_mode',\n",
       " 'created',\n",
       " 'created_utc',\n",
       " 'crosspost',\n",
       " 'delete',\n",
       " 'disable_inbox_replies',\n",
       " 'discussion_type',\n",
       " 'distinguished',\n",
       " 'domain',\n",
       " 'downs',\n",
       " 'downvote',\n",
       " 'duplicates',\n",
       " 'edit',\n",
       " 'edited',\n",
       " 'enable_inbox_replies',\n",
       " 'flair',\n",
       " 'fullname',\n",
       " 'gild',\n",
       " 'gilded',\n",
       " 'gildings',\n",
       " 'hidden',\n",
       " 'hide',\n",
       " 'hide_score',\n",
       " 'id',\n",
       " 'id_from_url',\n",
       " 'is_created_from_ads_ui',\n",
       " 'is_crosspostable',\n",
       " 'is_meta',\n",
       " 'is_original_content',\n",
       " 'is_reddit_media_domain',\n",
       " 'is_robot_indexable',\n",
       " 'is_self',\n",
       " 'is_video',\n",
       " 'likes',\n",
       " 'link_flair_background_color',\n",
       " 'link_flair_css_class',\n",
       " 'link_flair_richtext',\n",
       " 'link_flair_text',\n",
       " 'link_flair_text_color',\n",
       " 'link_flair_type',\n",
       " 'locked',\n",
       " 'mark_visited',\n",
       " 'media',\n",
       " 'media_embed',\n",
       " 'media_only',\n",
       " 'mod',\n",
       " 'mod_note',\n",
       " 'mod_reason_by',\n",
       " 'mod_reason_title',\n",
       " 'mod_reports',\n",
       " 'name',\n",
       " 'no_follow',\n",
       " 'num_comments',\n",
       " 'num_crossposts',\n",
       " 'num_reports',\n",
       " 'over_18',\n",
       " 'parent_whitelist_status',\n",
       " 'parse',\n",
       " 'permalink',\n",
       " 'pinned',\n",
       " 'pwls',\n",
       " 'quarantine',\n",
       " 'removal_reason',\n",
       " 'removed_by',\n",
       " 'removed_by_category',\n",
       " 'reply',\n",
       " 'report',\n",
       " 'report_reasons',\n",
       " 'save',\n",
       " 'saved',\n",
       " 'score',\n",
       " 'secure_media',\n",
       " 'secure_media_embed',\n",
       " 'selftext',\n",
       " 'selftext_html',\n",
       " 'send_replies',\n",
       " 'shortlink',\n",
       " 'spoiler',\n",
       " 'stickied',\n",
       " 'subreddit',\n",
       " 'subreddit_id',\n",
       " 'subreddit_name_prefixed',\n",
       " 'subreddit_subscribers',\n",
       " 'subreddit_type',\n",
       " 'suggested_sort',\n",
       " 'thumbnail',\n",
       " 'title',\n",
       " 'top_awarded_type',\n",
       " 'total_awards_received',\n",
       " 'treatment_tags',\n",
       " 'unhide',\n",
       " 'unsave',\n",
       " 'ups',\n",
       " 'upvote',\n",
       " 'upvote_ratio',\n",
       " 'url',\n",
       " 'user_reports',\n",
       " 'view_count',\n",
       " 'visited',\n",
       " 'whitelist_status',\n",
       " 'wls']"
      ]
     },
     "execution_count": 95,
     "metadata": {},
     "output_type": "execute_result"
    }
   ],
   "source": [
    "dir(x)"
   ]
  },
  {
   "cell_type": "code",
   "execution_count": 96,
   "id": "1506cd9f",
   "metadata": {},
   "outputs": [
    {
     "name": "stdout",
     "output_type": "stream",
     "text": [
      "I ran a 100% free full stack web development bootcamp for those laid off by the pandemic. 65 people got jobs and we are doing it again! I would love to have you join us!\n",
      "https://www.reddit.com/r/learnprogramming/comments/rlmulr/i_ran_a_100_free_full_stack_web_development/\n",
      "Upvote Ratio: 0.97\n",
      "\n",
      "I learned to code in 2 months and got a remote job for 100k\n",
      "https://www.reddit.com/r/learnprogramming/comments/t2jaes/i_learned_to_code_in_2_months_and_got_a_remote/\n",
      "Upvote Ratio: 0.92\n",
      "\n",
      "I wrote a syllabus for learning Python and Django. Four people have gone through it, two are interviewing and one got a job. It's based on using a somewhat even mix of coding challenges, personal projects and books.\n",
      "https://www.reddit.com/r/learnprogramming/comments/i9vuhr/i_wrote_a_syllabus_for_learning_python_and_django/\n",
      "Upvote Ratio: 0.98\n",
      "\n",
      "I highly recommend Harvard's free, online 2016 CS50 \"Intro to CS\" course for anyone new to programming\n",
      "https://www.reddit.com/r/learnprogramming/comments/4q6tae/i_highly_recommend_harvards_free_online_2016_cs50/\n",
      "Upvote Ratio: 0.94\n",
      "\n",
      "Please do not downvote someone who is asking for help in solving a code that looks stupid.\n",
      "https://www.reddit.com/r/learnprogramming/comments/imcydz/please_do_not_downvote_someone_who_is_asking_for/\n",
      "Upvote Ratio: 0.93\n",
      "\n",
      "How would people like a series of cartoons of ELI5s for important software engineering concepts?\n",
      "https://www.reddit.com/r/learnprogramming/comments/6glirv/how_would_people_like_a_series_of_cartoons_of/\n",
      "Upvote Ratio: 0.94\n",
      "\n",
      "The Massachusetts Institute of Technology has a class called ’The missing semester of your computer science education’ It is a collection of things that most developers and data scientists typically teach themselves on the job.\n",
      "https://www.reddit.com/r/learnprogramming/comments/fhvhal/the_massachusetts_institute_of_technology_has_a/\n",
      "Upvote Ratio: 0.99\n",
      "\n",
      "The online course for \"Automate the Boring Stuff with Python\" is free to sign up this week.\n",
      "https://www.reddit.com/r/learnprogramming/comments/bz3rys/the_online_course_for_automate_the_boring_stuff/\n",
      "Upvote Ratio: 0.98\n",
      "\n",
      "TIL that a software engineer filed a Freedom of Information Act request to get access to NSA's training material for teaching Python, the popular programming language. The material is now available for free online for anyone who wants to learn Python using it.\n",
      "https://www.reddit.com/r/learnprogramming/comments/t8pc7n/til_that_a_software_engineer_filed_a_freedom_of/\n",
      "Upvote Ratio: 0.98\n",
      "\n"
     ]
    }
   ],
   "source": [
    "for i in top:\n",
    "    print(i.title)\n",
    "    print(i.url)\n",
    "    print(f\"Upvote Ratio: {i.upvote_ratio}\")\n",
    "    print()"
   ]
  },
  {
   "cell_type": "code",
   "execution_count": null,
   "id": "c900a185",
   "metadata": {},
   "outputs": [],
   "source": []
  }
 ],
 "metadata": {
  "kernelspec": {
   "display_name": "Python 3 (ipykernel)",
   "language": "python",
   "name": "python3"
  },
  "language_info": {
   "codemirror_mode": {
    "name": "ipython",
    "version": 3
   },
   "file_extension": ".py",
   "mimetype": "text/x-python",
   "name": "python",
   "nbconvert_exporter": "python",
   "pygments_lexer": "ipython3",
   "version": "3.10.1"
  }
 },
 "nbformat": 4,
 "nbformat_minor": 5
}
